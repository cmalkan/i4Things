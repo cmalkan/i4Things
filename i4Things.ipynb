{
  "nbformat": 4,
  "nbformat_minor": 0,
  "metadata": {
    "colab": {
      "name": "i4Things.ipynb",
      "provenance": [],
      "collapsed_sections": [
        "2eS6agYP9K-a"
      ],
      "authorship_tag": "ABX9TyPTL9tOIZjyNUzZLdjMQ/tI",
      "include_colab_link": true
    },
    "kernelspec": {
      "name": "python3",
      "display_name": "Python 3"
    }
  },
  "cells": [
    {
      "cell_type": "markdown",
      "metadata": {
        "id": "view-in-github",
        "colab_type": "text"
      },
      "source": [
        "<a href=\"https://colab.research.google.com/github/cmalkan/i4Things/blob/main/i4Things.ipynb\" target=\"_parent\"><img src=\"https://colab.research.google.com/assets/colab-badge.svg\" alt=\"Open In Colab\"/></a>"
      ]
    },
    {
      "cell_type": "markdown",
      "metadata": {
        "id": "LmBf4wpL6PjP"
      },
      "source": [
        "# ***Problem***\r\n",
        "Can't find where things are kept in the house, they get lost.\r\n",
        "## ***Solution***\r\n",
        "An image detection system that can be used as to query items it sees... as it will have an eye for things (hence the project name \"i4things\")\r\n",
        "###****Reference****\r\n",
        "Code Reference Link: https://www.analyticsvidhya.com/blog/2019/01/build-image-classification-model-10-minutes/\r\n",
        "\r\n",
        "---\r\n",
        "\r\n"
      ]
    },
    {
      "cell_type": "markdown",
      "metadata": {
        "id": "JOiA2dR9Q0Am"
      },
      "source": [
        "# Using Static Image Classification"
      ]
    },
    {
      "cell_type": "markdown",
      "metadata": {
        "id": "NlPz4cn6XDR1"
      },
      "source": [
        "STEP 1"
      ]
    },
    {
      "cell_type": "code",
      "metadata": {
        "id": "mAQ6OUhXMvAf"
      },
      "source": [
        "!pip install PyDrive\r\n",
        "!pip install tensorflow\r\n",
        "import os\r\n",
        "from pydrive.auth import GoogleAuth\r\n",
        "from pydrive.drive import GoogleDrive\r\n",
        "from google.colab import auth\r\n",
        "from oauth2client.client import GoogleCredentials\r\n",
        "auth.authenticate_user()\r\n",
        "gauth = GoogleAuth()\r\n",
        "gauth.credentials = GoogleCredentials.get_application_default()\r\n",
        "drive = GoogleDrive(gauth)\r\n",
        "#DS: fashion-mnist-master.zip (https://drive.google.com/file/d/1WsCPESzNj7Tlu6uKjhDlyUJqTCdanWrZ/view?usp=sharing)\r\n",
        "download = drive.CreateFile({'id': '1WsCPESzNj7Tlu6uKjhDlyUJqTCdanWrZ'})\r\n",
        "download.GetContentFile('fashion-mnist-master.zip')\r\n",
        "!unzip fashion-mnist-master.zip\r\n",
        "#!tar -xvf t10k-images-idx3-ubyte.gz"
      ],
      "execution_count": null,
      "outputs": []
    },
    {
      "cell_type": "markdown",
      "metadata": {
        "id": "roADvOiFac4x"
      },
      "source": [
        "STEP 2\r\n"
      ]
    },
    {
      "cell_type": "code",
      "metadata": {
        "id": "90lafPuIaf3m"
      },
      "source": [
        "import tensorflow as tf\r\n",
        "from tensorflow import keras #in TF2.0, Keras wrapper to TF is included\r\n",
        "from keras import layers\r\n",
        "from keras.models import Sequential\r\n",
        "from keras.layers import Dense, Dropout, Flatten\r\n",
        "from keras.layers import Conv2D, MaxPooling2D\r\n",
        "from keras.utils import to_categorical\r\n",
        "from keras.preprocessing import image\r\n",
        "import numpy as np\r\n",
        "import pandas as pd\r\n",
        "import matplotlib.pyplot as plt\r\n",
        "plt.style.use('fivethirtyeight')\r\n",
        "from sklearn.model_selection import train_test_split\r\n",
        "from tqdm import tqdm\r\n",
        "#tf.compat.v1.logging.set_verbosity(tf.logging.ERROR) #only log error messages in TF"
      ],
      "execution_count": 31,
      "outputs": []
    },
    {
      "cell_type": "markdown",
      "metadata": {
        "id": "Njs4tQqYbIVh"
      },
      "source": [
        "STEP 3 - all about the dataset"
      ]
    },
    {
      "cell_type": "code",
      "metadata": {
        "id": "54oegKo0bH9A"
      },
      "source": [
        "#Load the data from Keras\r\n",
        "from keras.datasets import cifar10\r\n",
        "#x is the data, y is the label\r\n",
        "(x_train, y_train), (x_test, y_test) = cifar10.load_data()\r\n",
        "\r\n",
        "index = 0\r\n",
        "\r\n",
        "#print label names:\r\n",
        "label_names = ['plane','car','bird','cat','deer','dog','frog','horse','ship','truck']\r\n",
        "print('Y TRAIN!!! ',label_names[ y_train[index][0]])#label_names[y_train[index]])\r\n",
        "\r\n",
        "#show type of array data\r\n",
        "print(type(x_train))\r\n",
        "print(type(y_train))\r\n",
        "\r\n",
        "#Get the shape of array\r\n",
        "#(num_samples, 32 /*xsize*/, 32 /*ysize*/, 3 /*RGB*/) -- if \"channel last format\"\r\n",
        "print('Image Data Format is:',tf.keras.backend.image_data_format())\r\n",
        "print('x_train shape:',x_train.shape)\r\n",
        "\r\n",
        "#Take a look at the image\r\n",
        "print('First img (',label_names[y_train[index][0]], '):',x_train[index],plt.imshow(x_train[index]))\r\n",
        "\r\n",
        "#Covert Dataset to \"One Hot\" array to input into Neural Network\r\n",
        "y_train_one_hot = to_categorical(y_train)\r\n",
        "y_test_one_hot = to_categorical(y_test)\r\n",
        "print('One Hot Array:',y_train_one_hot, y_test_one_hot)\r\n",
        "\r\n",
        "#Normalize Pixes to the values to be between 0 & 1\r\n",
        "x_train = x_train / 255 #each pixel intensity is defined between 0-255, so 8-bit.\r\n",
        "x_test = x_test / 255\r\n",
        "\r\n",
        "#### Reading dataset from CSV file.\r\n",
        "#train = pd.read_csv('train.csv')\r\n",
        "# We have grayscale images, so while loading the images we will keep grayscale=True, if you have RGB images, you should set grayscale as False\r\n",
        "#train_image = []\r\n",
        "#for i in tqdm(range(train.shape[0])):\r\n",
        "#    img = image.load_img('train/'+train['id'][i].astype('str')+'.png', target_size=(28,28,1), grayscale=True)\r\n",
        "#    img = image.img_to_array(img)  # read img as array\r\n",
        "#    img = img/255\r\n",
        "#    train_image.append(img)  # Added it to array\r\n",
        "#X = np.array(train_image)    # convert to np array - i.e. dense array with multiple values.\r\n",
        "#y=train['label'].values\r\n",
        "#y = to_categorical(y)"
      ],
      "execution_count": null,
      "outputs": []
    },
    {
      "cell_type": "code",
      "metadata": {
        "id": "vajPHFhpuyab"
      },
      "source": [
        ""
      ],
      "execution_count": null,
      "outputs": []
    },
    {
      "cell_type": "markdown",
      "metadata": {
        "id": "UwjNcDG1a7Pf"
      },
      "source": [
        "STEP 4 -Creating a validation set from training data"
      ]
    },
    {
      "cell_type": "code",
      "metadata": {
        "id": "a64heaSCNxSN"
      },
      "source": [
        "#X_train, X_test, y_train, y_test = train_test_split(X, y, random_state=42, test_size=0.2)"
      ],
      "execution_count": null,
      "outputs": []
    },
    {
      "cell_type": "markdown",
      "metadata": {
        "id": "xart7r_Vay07"
      },
      "source": [
        "STEP 5"
      ]
    },
    {
      "cell_type": "code",
      "metadata": {
        "id": "gg-44Ulua0o0"
      },
      "source": [
        "#Reference - good example - https://www.youtube.com/watch?v=cAICT4Al5Ow&t=1s\r\n",
        "#Create Model Architecture\r\n",
        "model = Sequential() # Since each layer will feed data to next layer.  Alternative would be a \"Graph\" layer\r\n",
        "#Add 1st Layer\r\n",
        "#model.add(Conv2D(32, kernel_size=(3, 3),activation='relu',input_shape=(28,28,1)))\r\n",
        "#filters = the dimensionality of the output space (i.e. the number of output filters in the convolution). \r\n",
        "#kernel_size = height and width of the 2D convolution window.\r\n",
        "#convolution of the image against the known filter that presets a \"high value\"\r\n",
        "#\"relu\" is \"mod\" for the image which changes all the negative values in the vector map to 0, to make it faster \r\n",
        "model.add(Conv2D(filters=32, kernel_size=(5, 5),activation='relu',input_shape=(32,32,3)))\r\n",
        "model.add(MaxPooling2D(pool_size=(2, 2)))\r\n",
        "\r\n",
        "# Add 2nd Layer\r\n",
        "model.add(Conv2D(64, (3, 3), activation='relu'))\r\n",
        "#maxpooling ... generalizes the matrix of 2,2 with the highest layer, to make the processing faster\r\n",
        "model.add(MaxPooling2D(pool_size=(2, 2)))\r\n",
        "\r\n",
        "#Add 4,5,6,7,8 layer\r\n",
        "model.add(Flatten())\r\n",
        "model.add(Dense(1000, activation='relu')) #it adds # of neurons... 1000\r\n",
        "#dropout for preventing overfitting, so you take away (by 0'ing the output) of parameter (0.5) % of the \"nodes\"/pixes\r\n",
        "model.add(Dropout(0.5))\r\n",
        "\r\n",
        "model.add(Dense(500, activation='relu')) \r\n",
        "model.add(Dropout(0.5))\r\n",
        "model.add(Dense(250, activation='relu')) \r\n",
        "model.add(Dense(10, activation='softmax')) #softmax converts into probabilites\r\n",
        "\r\n",
        "#compile\r\n",
        "model.compile(loss='categorical_crossentropy', #reference - https://www.tensorflow.org/api_docs/python/tf/keras/losses \r\n",
        "              optimizer='Adam', #reference - https://www.tensorflow.org/api_docs/python/tf/keras/optimizers/Adam \r\n",
        "              metrics=['accuracy'])"
      ],
      "execution_count": 52,
      "outputs": []
    },
    {
      "cell_type": "markdown",
      "metadata": {
        "id": "4F3ZuCmKcHzf"
      },
      "source": [
        "STEP 6 - train the model"
      ]
    },
    {
      "cell_type": "code",
      "metadata": {
        "id": "zMfFaJBlcJ5p",
        "colab": {
          "base_uri": "https://localhost:8080/"
        },
        "outputId": "50a0ebbe-15a4-4191-9d34-1c46536c5e3b"
      },
      "source": [
        "hist = model.fit(x_train, #Input data\r\n",
        "          y_train_one_hot, #Target data.\r\n",
        "          batch_size=256, # Number of samples per gradient update.\r\n",
        "          epochs=10, # Number of epochs to train the model. An epoch is an iteration over the entire x and y data provided. \r\n",
        "          validation_split=0.2) #Fraction of the training data to be used as validation datasplit the data(20%) into validation from train data.\r\n",
        "         "
      ],
      "execution_count": null,
      "outputs": [
        {
          "output_type": "stream",
          "text": [
            "Epoch 1/10\n",
            "157/157 [==============================] - 61s 385ms/step - loss: 1.9621 - accuracy: 0.2647 - val_loss: 1.4695 - val_accuracy: 0.4738\n",
            "Epoch 2/10\n",
            "157/157 [==============================] - 60s 383ms/step - loss: 1.3621 - accuracy: 0.4991 - val_loss: 1.2164 - val_accuracy: 0.5607\n",
            "Epoch 3/10\n",
            "157/157 [==============================] - 60s 383ms/step - loss: 1.1883 - accuracy: 0.5710 - val_loss: 1.1233 - val_accuracy: 0.6058\n",
            "Epoch 4/10\n",
            "157/157 [==============================] - 60s 384ms/step - loss: 1.0600 - accuracy: 0.6239 - val_loss: 1.0238 - val_accuracy: 0.6375\n",
            "Epoch 5/10\n",
            "157/157 [==============================] - 60s 381ms/step - loss: 0.9384 - accuracy: 0.6703 - val_loss: 0.9677 - val_accuracy: 0.6602\n",
            "Epoch 6/10\n",
            "157/157 [==============================] - 60s 382ms/step - loss: 0.8467 - accuracy: 0.7007 - val_loss: 1.0071 - val_accuracy: 0.6453\n",
            "Epoch 7/10\n",
            "157/157 [==============================] - 60s 381ms/step - loss: 0.7756 - accuracy: 0.7279 - val_loss: 0.9171 - val_accuracy: 0.6795\n",
            "Epoch 8/10\n",
            "157/157 [==============================] - 60s 382ms/step - loss: 0.6766 - accuracy: 0.7638 - val_loss: 0.8944 - val_accuracy: 0.6954\n",
            "Epoch 9/10\n",
            "  8/157 [>.............................] - ETA: 53s - loss: 0.5867 - accuracy: 0.7996"
          ],
          "name": "stdout"
        }
      ]
    },
    {
      "cell_type": "markdown",
      "metadata": {
        "id": "lSYb0SYV_J7e"
      },
      "source": [
        "Evalute & plot the Module using test data"
      ]
    },
    {
      "cell_type": "code",
      "metadata": {
        "colab": {
          "base_uri": "https://localhost:8080/",
          "height": 650
        },
        "id": "SyfWYoaZ_JTu",
        "outputId": "1ff1673e-c2c8-4216-dd64-10c6c1cbb764"
      },
      "source": [
        "model.evaluate(x_test, y_test_one_hot)[1]\r\n",
        "#Visulatize the models accuracy\r\n",
        "plt.plot(hist.history['accuracy'])\r\n",
        "plt.plot(hist.history['val_accuracy'])\r\n",
        "plt.title('Model Accuracy')\r\n",
        "plt.ylabel('Accuracy')\r\n",
        "plt.xlabel('Epoch')\r\n",
        "plt.legend(['train','Validation'], loc='upper right')\r\n",
        "plt.show()\r\n",
        "\r\n",
        "#Visulatize the models loss\r\n",
        "plt.plot(hist.history['loss'])\r\n",
        "plt.plot(hist.history['val_loss'])\r\n",
        "plt.title('Model Loss')\r\n",
        "plt.ylabel('Loss')\r\n",
        "plt.xlabel('Epoch')\r\n",
        "plt.legend(['train','Validation'], loc='upper left')\r\n",
        "plt.show()"
      ],
      "execution_count": 40,
      "outputs": [
        {
          "output_type": "stream",
          "text": [
            "313/313 [==============================] - 6s 19ms/step - loss: 1.1633 - accuracy: 0.7080\n"
          ],
          "name": "stdout"
        },
        {
          "output_type": "display_data",
          "data": {
            "image/png": "[encoded data removed]",
            "text/plain": [
              "<Figure size 432x288 with 1 Axes>"
            ]
          },
          "metadata": {
            "tags": []
          }
        },
        {
          "output_type": "display_data",
          "data": {
            "image/png": "[encoded data removed]",
            "text/plain": [
              "<Figure size 432x288 with 1 Axes>"
            ]
          },
          "metadata": {
            "tags": []
          }
        }
      ]
    },
    {
      "cell_type": "markdown",
      "metadata": {
        "id": "HDgw4dS_cL9V"
      },
      "source": [
        "STEP 7 - make predictions (CAR, FROG)"
      ]
    },
    {
      "cell_type": "code",
      "metadata": {
        "id": "vtHkta3tcOLX",
        "colab": {
          "base_uri": "https://localhost:8080/",
          "height": 388
        },
        "outputId": "ab670d00-22ab-43dd-a20e-c4a339006dba"
      },
      "source": [
        "from google.colab import files\r\n",
        "#uploaded = files.upload() # Only need to do this at new file upload\r\n",
        "\r\n",
        "#show the image\r\n",
        "new_image = plt.imread('car_test_image.jpg')\r\n",
        "img = plt.imshow(new_image)\r\n",
        "\r\n",
        "#resize the image to 32 x 32 (like our dataset)\r\n",
        "from skimage.transform import resize\r\n",
        "resized_image = resize(new_image, (32,32,3))\r\n",
        "img = plt.imshow(resized_image)\r\n",
        "# making predictions\r\n",
        "prediction = model.predict(np.array([resized_image]))\r\n",
        "#show predictions\r\n",
        "prediction\r\n",
        "#Sort predictions from least to greatest\r\n",
        "list_index = [0,1,2,3,4,5,6,7,8,9]\r\n",
        "x = prediction\r\n",
        "for i in range(10):\r\n",
        "  for j in range (10):\r\n",
        "    if x[0][list_index[i]] > x[0][list_index[j]]:\r\n",
        "      temp = list_index[i]\r\n",
        "      list_index[i] = list_index[j]\r\n",
        "      list_index[j] = temp\r\n",
        "\r\n",
        "\r\n",
        "#Show sorted labes in order\r\n",
        "print(list_index)\r\n",
        "\r\n",
        "#Show the classifcation (for the 1st 5 predictions)\r\n",
        "for i in range(5):\r\n",
        "  print (label_names[list_index[i]],':',round(prediction[0][list_index[i]]*100,2),'%')"
      ],
      "execution_count": 51,
      "outputs": [
        {
          "output_type": "stream",
          "text": [
            "[8, 0, 9, 1, 3, 2, 4, 6, 5, 7]\n",
            "ship : 62.08 %\n",
            "plane : 37.03 %\n",
            "truck : 0.55 %\n",
            "car : 0.19 %\n",
            "cat : 0.08 %\n"
          ],
          "name": "stdout"
        },
        {
          "output_type": "display_data",
          "data": {
            "image/png": "[encoded data removed]",
            "text/plain": [
              "<Figure size 432x288 with 1 Axes>"
            ]
          },
          "metadata": {
            "tags": []
          }
        }
      ]
    },
    {
      "cell_type": "code",
      "metadata": {
        "id": "8w07Do8ZGMon"
      },
      "source": [
        "#show the image\r\n",
        "new_image = plt.imread('frog_test.jpg')\r\n",
        "img = plt.imshow(new_image)\r\n",
        "\r\n",
        "#resize the image to 32 x 32 (like our dataset)\r\n",
        "from skimage.transform import resize\r\n",
        "resized_image = resize(new_image, (32,32,3))\r\n",
        "img = plt.imshow(resized_image)\r\n",
        "# making predictions\r\n",
        "prediction = model.predict(np.array([resized_image]))\r\n",
        "#show predictions\r\n",
        "prediction\r\n",
        "#Sort predictions from least to greatest\r\n",
        "list_index = [0,1,2,3,4,5,6,7,8,9]\r\n",
        "x = prediction\r\n",
        "for i in range(10):\r\n",
        "  for j in range (10):\r\n",
        "    if x[0][list_index[i]] > x[0][list_index[j]]:\r\n",
        "      temp = list_index[i]\r\n",
        "      list_index[i] = list_index[j]\r\n",
        "      list_index[j] = temp\r\n",
        "\r\n",
        "\r\n",
        "#Show sorted labes in order\r\n",
        "print(list_index)\r\n",
        "\r\n",
        "#Show the classifcation (for the 1st 5 predictions)\r\n",
        "for i in range(5):\r\n",
        "  print (label_names[list_index[i]],':',round(prediction[0][list_index[i]]*100,2),'%')"
      ],
      "execution_count": null,
      "outputs": []
    },
    {
      "cell_type": "markdown",
      "metadata": {
        "id": "JfolMfetQ-G7"
      },
      "source": [
        "# Using Dynamic Image Classification\r\n",
        "#### Tensor Object Dection - YOLO technology."
      ]
    },
    {
      "cell_type": "markdown",
      "metadata": {
        "id": "2eS6agYP9K-a"
      },
      "source": [
        "#***Image Processing in Python***\r\n",
        "Article reference link: https://www.analyticsvidhya.com/blog/2014/12/image-processing-python-basics/ "
      ]
    },
    {
      "cell_type": "code",
      "metadata": {
        "id": "BLELocPg9JBS"
      },
      "source": [
        "!pip install -U scikit-image\r\n",
        "from matplotlib import pyplot as plt\r\n",
        "from skimage import data\r\n",
        "from skimage.feature import blob_dog, blob_log, blob_doh\r\n",
        "from math import sqrt\r\n",
        "from skimage.color import rgb2gray\r\n",
        "import glob\r\n",
        "from skimage.io import imread"
      ],
      "execution_count": null,
      "outputs": []
    },
    {
      "cell_type": "code",
      "metadata": {
        "id": "ouIy8enG9iR1"
      },
      "source": [
        "example_file = drive.CreateFile({'id':'1zW9fLbL7e4RleXKluSzHVHZxupzgh4su'})\r\n",
        "example_file.GetContentFile('skyimg1.png')\r\n",
        "#example_file = glob.glob(r\"C:UsersTavishDesktopwint_sky.gif\")[0]\r\n",
        "im = imread(example_file, as_grey=True)\r\n",
        "plt.imshow(im, cmap=cm.gray)\r\n",
        "plt.show()"
      ],
      "execution_count": null,
      "outputs": []
    }
  ]
}